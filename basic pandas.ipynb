{
 "cells": [
  {
   "cell_type": "code",
   "execution_count": null,
   "id": "79382cbe",
   "metadata": {},
   "outputs": [],
   "source": [
    "!pip install pandas"
   ]
  },
  {
   "cell_type": "code",
   "execution_count": 21,
   "id": "d7c7d07f",
   "metadata": {},
   "outputs": [],
   "source": [
    "import pandas as pd"
   ]
  },
  {
   "cell_type": "markdown",
   "id": "13d59e3e",
   "metadata": {},
   "source": [
    "### Creating a DataFrame from dictionary"
   ]
  },
  {
   "cell_type": "code",
   "execution_count": 54,
   "id": "62068123",
   "metadata": {},
   "outputs": [],
   "source": [
    "data = {\n",
    "    'Name': ['Alice', 'Bob', 'Charlie', 'David', 'Eve'],\n",
    "    'Age': [24, 27, 22, 32, 29],\n",
    "    'City': ['New York', 'Los Angeles', 'Chicago', 'Houston', 'Phoenix'],\n",
    "    'Salary': [70000, 80000, 65000, 120000, 95000]\n",
    "}"
   ]
  },
  {
   "cell_type": "code",
   "execution_count": 55,
   "id": "cd5a1dae",
   "metadata": {},
   "outputs": [
    {
     "name": "stdout",
     "output_type": "stream",
     "text": [
      "      Name  Age         City  Salary\n",
      "0    Alice   24     New York   70000\n",
      "1      Bob   27  Los Angeles   80000\n",
      "2  Charlie   22      Chicago   65000\n",
      "3    David   32      Houston  120000\n",
      "4      Eve   29      Phoenix   95000\n"
     ]
    }
   ],
   "source": [
    "df = pd.DataFrame(data)\n",
    "print(df)"
   ]
  },
  {
   "cell_type": "markdown",
   "id": "b3ffe271",
   "metadata": {},
   "source": [
    "### display"
   ]
  },
  {
   "cell_type": "code",
   "execution_count": 56,
   "id": "c9ff40f7",
   "metadata": {},
   "outputs": [
    {
     "name": "stdout",
     "output_type": "stream",
     "text": [
      "Head of the DataFrame:\n",
      "       Name  Age         City  Salary\n",
      "0    Alice   24     New York   70000\n",
      "1      Bob   27  Los Angeles   80000\n",
      "2  Charlie   22      Chicago   65000\n",
      "3    David   32      Houston  120000\n",
      "4      Eve   29      Phoenix   95000\n"
     ]
    }
   ],
   "source": [
    "# first 5 values\n",
    "print(\"Head of the DataFrame:\\n\", df.head())"
   ]
  },
  {
   "cell_type": "code",
   "execution_count": 57,
   "id": "4b70806c",
   "metadata": {},
   "outputs": [
    {
     "name": "stdout",
     "output_type": "stream",
     "text": [
      "First 2 values:\n",
      "     Name  Age         City  Salary\n",
      "0  Alice   24     New York   70000\n",
      "1    Bob   27  Los Angeles   80000\n"
     ]
    }
   ],
   "source": [
    "# first 2 values\n",
    "print(\"First 2 values:\\n\", df.head(2))"
   ]
  },
  {
   "cell_type": "code",
   "execution_count": 58,
   "id": "4b93c59a",
   "metadata": {},
   "outputs": [
    {
     "name": "stdout",
     "output_type": "stream",
     "text": [
      "\n",
      "Tail of the DataFrame:\n",
      "       Name  Age         City  Salary\n",
      "0    Alice   24     New York   70000\n",
      "1      Bob   27  Los Angeles   80000\n",
      "2  Charlie   22      Chicago   65000\n",
      "3    David   32      Houston  120000\n",
      "4      Eve   29      Phoenix   95000\n"
     ]
    }
   ],
   "source": [
    "# last 5 values\n",
    "print(\"\\nTail of the DataFrame:\\n\", df.tail())"
   ]
  },
  {
   "cell_type": "code",
   "execution_count": 59,
   "id": "d71b8aa0",
   "metadata": {},
   "outputs": [
    {
     "name": "stdout",
     "output_type": "stream",
     "text": [
      "\n",
      "Shape of the DataFrame: (5, 4)\n"
     ]
    }
   ],
   "source": [
    "# shape of the dataframe\n",
    "print(\"\\nShape of the DataFrame:\", df.shape)"
   ]
  },
  {
   "cell_type": "code",
   "execution_count": 60,
   "id": "41dbf084",
   "metadata": {},
   "outputs": [
    {
     "name": "stdout",
     "output_type": "stream",
     "text": [
      "\n",
      "Summary statistics:\n",
      "              Age         Salary\n",
      "count   5.000000       5.000000\n",
      "mean   26.800000   86000.000000\n",
      "std     3.962323   22192.341021\n",
      "min    22.000000   65000.000000\n",
      "25%    24.000000   70000.000000\n",
      "50%    27.000000   80000.000000\n",
      "75%    29.000000   95000.000000\n",
      "max    32.000000  120000.000000\n"
     ]
    }
   ],
   "source": [
    "# summary statistics\n",
    "print(\"\\nSummary statistics:\\n\", df.describe())"
   ]
  },
  {
   "cell_type": "markdown",
   "id": "5b946ca7",
   "metadata": {},
   "source": [
    "### Column operations"
   ]
  },
  {
   "cell_type": "code",
   "execution_count": 61,
   "id": "953ec469",
   "metadata": {},
   "outputs": [
    {
     "name": "stdout",
     "output_type": "stream",
     "text": [
      "\n",
      "Column names: Index(['Name', 'Age', 'City', 'Salary'], dtype='object')\n"
     ]
    }
   ],
   "source": [
    "# column names\n",
    "print(\"\\nColumn names:\", df.columns)"
   ]
  },
  {
   "cell_type": "code",
   "execution_count": 62,
   "id": "d9312d9f",
   "metadata": {},
   "outputs": [
    {
     "name": "stdout",
     "output_type": "stream",
     "text": [
      "\n",
      "Select a single column (Age):\n",
      " 0    24\n",
      "1    27\n",
      "2    22\n",
      "3    32\n",
      "4    29\n",
      "Name: Age, dtype: int64\n"
     ]
    }
   ],
   "source": [
    "# a single column\n",
    "print(\"\\nSelect a single column (Age):\\n\", df['Age'])"
   ]
  },
  {
   "cell_type": "code",
   "execution_count": 63,
   "id": "146bbd25",
   "metadata": {},
   "outputs": [
    {
     "name": "stdout",
     "output_type": "stream",
     "text": [
      "\n",
      "Select multiple columns (Name and Salary):\n",
      "       Name  Salary\n",
      "0    Alice   70000\n",
      "1      Bob   80000\n",
      "2  Charlie   65000\n",
      "3    David  120000\n",
      "4      Eve   95000\n"
     ]
    }
   ],
   "source": [
    "# multiple columns\n",
    "print(\"\\nSelect multiple columns (Name and Salary):\\n\", df[['Name', 'Salary']])"
   ]
  },
  {
   "cell_type": "code",
   "execution_count": 64,
   "id": "5c5b05e8",
   "metadata": {},
   "outputs": [
    {
     "name": "stdout",
     "output_type": "stream",
     "text": [
      "\n",
      "Rows where Age > 25:\n",
      "     Name  Age         City  Salary\n",
      "1    Bob   27  Los Angeles   80000\n",
      "3  David   32      Houston  120000\n",
      "4    Eve   29      Phoenix   95000\n"
     ]
    }
   ],
   "source": [
    "# Filter rows based on a condition\n",
    "print(\"\\nRows where Age > 25:\\n\", df[df['Age'] > 25])"
   ]
  },
  {
   "cell_type": "code",
   "execution_count": 65,
   "id": "2e0bd17c",
   "metadata": {},
   "outputs": [
    {
     "name": "stdout",
     "output_type": "stream",
     "text": [
      "\n",
      "DataFrame after adding Experience column:\n",
      "       Name  Age         City  Salary  Experience\n",
      "0    Alice   24     New York   70000           2\n",
      "1      Bob   27  Los Angeles   80000           5\n",
      "2  Charlie   22      Chicago   65000           1\n",
      "3    David   32      Houston  120000          10\n",
      "4      Eve   29      Phoenix   95000           7\n"
     ]
    }
   ],
   "source": [
    "# Add a new column\n",
    "df['Experience'] = [2, 5, 1, 10, 7]\n",
    "print(\"\\nDataFrame after adding Experience column:\\n\", df)"
   ]
  },
  {
   "cell_type": "code",
   "execution_count": 66,
   "id": "4c5a4236",
   "metadata": {},
   "outputs": [
    {
     "name": "stdout",
     "output_type": "stream",
     "text": [
      "\n",
      "DataFrame after removing City column:\n",
      "       Name  Age  Salary  Experience\n",
      "0    Alice   24   70000           2\n",
      "1      Bob   27   80000           5\n",
      "2  Charlie   22   65000           1\n",
      "3    David   32  120000          10\n",
      "4      Eve   29   95000           7\n"
     ]
    }
   ],
   "source": [
    "# Remove a column\n",
    "df.drop('City', axis=1, inplace=True)\n",
    "print(\"\\nDataFrame after removing City column:\\n\", df)"
   ]
  },
  {
   "cell_type": "code",
   "execution_count": 67,
   "id": "243fc7f6",
   "metadata": {},
   "outputs": [
    {
     "name": "stdout",
     "output_type": "stream",
     "text": [
      "\n",
      "DataFrame after renaming columns:\n",
      "   Employee Name  Age  Salary  Experience\n",
      "0         Alice   24   70000           2\n",
      "1           Bob   27   80000           5\n",
      "2       Charlie   22   65000           1\n",
      "3         David   32  120000          10\n",
      "4           Eve   29   95000           7\n"
     ]
    }
   ],
   "source": [
    "# Rename columns\n",
    "df.rename(columns={'Name': 'Employee Name'}, inplace=True)\n",
    "print(\"\\nDataFrame after renaming columns:\\n\", df)"
   ]
  },
  {
   "cell_type": "markdown",
   "id": "828e8515",
   "metadata": {},
   "source": [
    "### Handling missing values"
   ]
  },
  {
   "cell_type": "code",
   "execution_count": 68,
   "id": "b98230f2",
   "metadata": {},
   "outputs": [
    {
     "name": "stdout",
     "output_type": "stream",
     "text": [
      "\n",
      "DataFrame with NaN value:\n",
      "   Employee Name   Age  Salary  Experience\n",
      "0         Alice  24.0   70000           2\n",
      "1           Bob  27.0   80000           5\n",
      "2       Charlie   NaN   65000           1\n",
      "3         David  32.0  120000          10\n",
      "4           Eve  29.0   95000           7\n"
     ]
    }
   ],
   "source": [
    "# Adding a NaN value for demonstration\n",
    "df.at[2, 'Age'] = None\n",
    "print(\"\\nDataFrame with NaN value:\\n\", df)"
   ]
  },
  {
   "cell_type": "code",
   "execution_count": 69,
   "id": "2bdb5570",
   "metadata": {},
   "outputs": [
    {
     "name": "stdout",
     "output_type": "stream",
     "text": [
      "\n",
      "DataFrame after filling missing values:\n",
      "   Employee Name   Age  Salary  Experience\n",
      "0         Alice  24.0   70000           2\n",
      "1           Bob  27.0   80000           5\n",
      "2       Charlie  28.0   65000           1\n",
      "3         David  32.0  120000          10\n",
      "4           Eve  29.0   95000           7\n"
     ]
    }
   ],
   "source": [
    "# Fill missing values\n",
    "df['Age'].fillna(df['Age'].mean(), inplace=True)\n",
    "print(\"\\nDataFrame after filling missing values:\\n\", df)"
   ]
  },
  {
   "cell_type": "markdown",
   "id": "96e9482e",
   "metadata": {},
   "source": [
    "### Grouping and sorting data"
   ]
  },
  {
   "cell_type": "code",
   "execution_count": 70,
   "id": "86b164ef",
   "metadata": {},
   "outputs": [
    {
     "name": "stdout",
     "output_type": "stream",
     "text": [
      "\n",
      "Grouped DataFrame by Experience:\n",
      "              Age    Salary\n",
      "Experience                \n",
      "1           28.0   65000.0\n",
      "2           24.0   70000.0\n",
      "5           27.0   80000.0\n",
      "7           29.0   95000.0\n",
      "10          32.0  120000.0\n"
     ]
    }
   ],
   "source": [
    "# Grouping data\n",
    "grouped = df.groupby('Experience').mean()\n",
    "print(\"\\nGrouped DataFrame by Experience:\\n\", grouped)"
   ]
  },
  {
   "cell_type": "code",
   "execution_count": 71,
   "id": "7fda34e0",
   "metadata": {},
   "outputs": [
    {
     "name": "stdout",
     "output_type": "stream",
     "text": [
      "\n",
      "DataFrame sorted by Salary (descending):\n",
      "   Employee Name   Age  Salary  Experience\n",
      "3         David  32.0  120000          10\n",
      "4           Eve  29.0   95000           7\n",
      "1           Bob  27.0   80000           5\n",
      "0         Alice  24.0   70000           2\n",
      "2       Charlie  28.0   65000           1\n"
     ]
    }
   ],
   "source": [
    "# Sorting data\n",
    "sorted_df = df.sort_values(by='Salary', ascending=False)\n",
    "print(\"\\nDataFrame sorted by Salary (descending):\\n\", sorted_df)"
   ]
  },
  {
   "cell_type": "markdown",
   "id": "a75455af",
   "metadata": {},
   "source": [
    "### Saving data to csv and reading from it"
   ]
  },
  {
   "cell_type": "code",
   "execution_count": 72,
   "id": "654382f7",
   "metadata": {},
   "outputs": [
    {
     "name": "stdout",
     "output_type": "stream",
     "text": [
      "\n",
      "DataFrame saved to 'employee_data.csv'\n",
      "\n",
      "DataFrame read from 'employee_data.csv':\n",
      "   Employee Name   Age  Salary  Experience\n",
      "0         Alice  24.0   70000           2\n",
      "1           Bob  27.0   80000           5\n",
      "2       Charlie  28.0   65000           1\n",
      "3         David  32.0  120000          10\n",
      "4           Eve  29.0   95000           7\n"
     ]
    }
   ],
   "source": [
    "# Saving DataFrame to a CSV file\n",
    "df.to_csv('employee_data.csv', index=False)\n",
    "print(\"\\nDataFrame saved to 'employee_data.csv'\")\n",
    "\n",
    "# Reading DataFrame from a CSV file\n",
    "df_from_csv = pd.read_csv('employee_data.csv')\n",
    "print(\"\\nDataFrame read from 'employee_data.csv':\\n\", df_from_csv)"
   ]
  },
  {
   "cell_type": "code",
   "execution_count": null,
   "id": "deeb6d44",
   "metadata": {},
   "outputs": [],
   "source": []
  }
 ],
 "metadata": {
  "kernelspec": {
   "display_name": "Python 3 (ipykernel)",
   "language": "python",
   "name": "python3"
  },
  "language_info": {
   "codemirror_mode": {
    "name": "ipython",
    "version": 3
   },
   "file_extension": ".py",
   "mimetype": "text/x-python",
   "name": "python",
   "nbconvert_exporter": "python",
   "pygments_lexer": "ipython3",
   "version": "3.9.7"
  }
 },
 "nbformat": 4,
 "nbformat_minor": 5
}
