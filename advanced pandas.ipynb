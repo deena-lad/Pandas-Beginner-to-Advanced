{
 "cells": [
  {
   "cell_type": "code",
   "execution_count": 1,
   "id": "f3b56eda",
   "metadata": {},
   "outputs": [],
   "source": [
    "import numpy as np\n",
    "import pandas as pd"
   ]
  },
  {
   "cell_type": "markdown",
   "id": "d05d01a2",
   "metadata": {},
   "source": [
    "### A normal DataFrame"
   ]
  },
  {
   "cell_type": "code",
   "execution_count": 3,
   "id": "efc143bb",
   "metadata": {},
   "outputs": [],
   "source": [
    "data = {\n",
    "    'Name': ['Alice', 'Bob', 'Charlie', 'David', 'Eve', 'Frank'],\n",
    "    'Age': [24, 27, 22, 32, 29, 24],\n",
    "    'City': ['New York', 'Los Angeles', 'Chicago', 'Houston', 'Phoenix', 'New York'],\n",
    "    'Salary': [70000, 80000, 65000, 120000, 95000, 68000],\n",
    "    'Experience': [2, 5, 1, 10, 7, 2]\n",
    "}"
   ]
  },
  {
   "cell_type": "code",
   "execution_count": 4,
   "id": "c61b2e29",
   "metadata": {},
   "outputs": [],
   "source": [
    "# Convert dictionary to DataFrame\n",
    "df = pd.DataFrame(data)"
   ]
  },
  {
   "cell_type": "markdown",
   "id": "f5df280f",
   "metadata": {},
   "source": [
    "#### Using multi-indexing (hierarchical indexing)"
   ]
  },
  {
   "cell_type": "code",
   "execution_count": 5,
   "id": "e04d162c",
   "metadata": {},
   "outputs": [
    {
     "name": "stdout",
     "output_type": "stream",
     "text": [
      "DataFrame with MultiIndex:\n",
      "                      Age  Salary  Experience\n",
      "City        Name                            \n",
      "New York    Alice     24   70000           2\n",
      "Los Angeles Bob       27   80000           5\n",
      "Chicago     Charlie   22   65000           1\n",
      "Houston     David     32  120000          10\n",
      "Phoenix     Eve       29   95000           7\n",
      "New York    Frank     24   68000           2\n"
     ]
    }
   ],
   "source": [
    "df.set_index(['City', 'Name'], inplace=True)\n",
    "print(\"DataFrame with MultiIndex:\\n\", df)"
   ]
  },
  {
   "cell_type": "markdown",
   "id": "0f8fb3ee",
   "metadata": {},
   "source": [
    "#### Resetting multi-index to default integer index"
   ]
  },
  {
   "cell_type": "code",
   "execution_count": 6,
   "id": "8ae60903",
   "metadata": {},
   "outputs": [
    {
     "name": "stdout",
     "output_type": "stream",
     "text": [
      "\n",
      "DataFrame after resetting MultiIndex:\n",
      "           City     Name  Age  Salary  Experience\n",
      "0     New York    Alice   24   70000           2\n",
      "1  Los Angeles      Bob   27   80000           5\n",
      "2      Chicago  Charlie   22   65000           1\n",
      "3      Houston    David   32  120000          10\n",
      "4      Phoenix      Eve   29   95000           7\n",
      "5     New York    Frank   24   68000           2\n"
     ]
    }
   ],
   "source": [
    "df.reset_index(inplace=True)\n",
    "print(\"\\nDataFrame after resetting MultiIndex:\\n\", df)"
   ]
  },
  {
   "cell_type": "markdown",
   "id": "6ca8c3b5",
   "metadata": {},
   "source": [
    "#### Using the query function to query the DataFrame"
   ]
  },
  {
   "cell_type": "code",
   "execution_count": 7,
   "id": "5c1f21d1",
   "metadata": {},
   "outputs": [
    {
     "name": "stdout",
     "output_type": "stream",
     "text": [
      "\n",
      "Query result where Age > 25 and Salary > 70000:\n",
      "           City   Name  Age  Salary  Experience\n",
      "1  Los Angeles    Bob   27   80000           5\n",
      "3      Houston  David   32  120000          10\n",
      "4      Phoenix    Eve   29   95000           7\n"
     ]
    }
   ],
   "source": [
    "result = df.query('Age > 25 and Salary > 70000')\n",
    "print(\"\\nQuery result where Age > 25 and Salary > 70000:\\n\", result)"
   ]
  },
  {
   "cell_type": "markdown",
   "id": "3fc8ebc1",
   "metadata": {},
   "source": [
    "#### Using the eval function for evaluating expressions"
   ]
  },
  {
   "cell_type": "code",
   "execution_count": 8,
   "id": "f9a13064",
   "metadata": {},
   "outputs": [
    {
     "name": "stdout",
     "output_type": "stream",
     "text": [
      "\n",
      "DataFrame after evaluating Salary After Tax:\n",
      "           City     Name  Age  Salary  Experience  Salary After Tax\n",
      "0     New York    Alice   24   70000           2           49000.0\n",
      "1  Los Angeles      Bob   27   80000           5           56000.0\n",
      "2      Chicago  Charlie   22   65000           1           45500.0\n",
      "3      Houston    David   32  120000          10           84000.0\n",
      "4      Phoenix      Eve   29   95000           7           66500.0\n",
      "5     New York    Frank   24   68000           2           47600.0\n"
     ]
    }
   ],
   "source": [
    "df['Salary After Tax'] = df.eval('Salary * 0.7')\n",
    "print(\"\\nDataFrame after evaluating Salary After Tax:\\n\", df)"
   ]
  },
  {
   "cell_type": "markdown",
   "id": "e292e243",
   "metadata": {},
   "source": [
    "### Time series data"
   ]
  },
  {
   "cell_type": "markdown",
   "id": "87bb318a",
   "metadata": {},
   "source": [
    "#### Creating  data"
   ]
  },
  {
   "cell_type": "code",
   "execution_count": 9,
   "id": "4004845d",
   "metadata": {},
   "outputs": [],
   "source": [
    "dates = pd.date_range('20210101', periods=6)"
   ]
  },
  {
   "cell_type": "markdown",
   "id": "2ca5ca93",
   "metadata": {},
   "source": [
    "#### Creating a DataFrame with time series index"
   ]
  },
  {
   "cell_type": "code",
   "execution_count": 10,
   "id": "e5657711",
   "metadata": {},
   "outputs": [
    {
     "name": "stdout",
     "output_type": "stream",
     "text": [
      "\n",
      "Time series DataFrame:\n",
      "                    A         B         C         D\n",
      "2021-01-01 -0.250948 -0.255262  0.934942  2.111742\n",
      "2021-01-02 -1.257141  1.027179  0.647134  0.380671\n",
      "2021-01-03 -0.734683 -0.098029 -0.726913 -0.727107\n",
      "2021-01-04 -0.886686  1.129526  0.557813 -1.328592\n",
      "2021-01-05 -0.363765  0.513614  0.857454 -1.072217\n",
      "2021-01-06  0.335809  1.254594 -1.300206  0.607011\n"
     ]
    }
   ],
   "source": [
    "time_series_df = pd.DataFrame(np.random.randn(6, 4), index=dates, columns=list('ABCD'))\n",
    "print(\"\\nTime series DataFrame:\\n\", time_series_df)"
   ]
  },
  {
   "cell_type": "markdown",
   "id": "ef0d0e5f",
   "metadata": {},
   "source": [
    "#### Resampling time series data"
   ]
  },
  {
   "cell_type": "code",
   "execution_count": 11,
   "id": "f6b3a251",
   "metadata": {},
   "outputs": [
    {
     "name": "stdout",
     "output_type": "stream",
     "text": [
      "\n",
      "Resampled DataFrame (monthly mean):\n",
      "                    A        B         C         D\n",
      "2021-01-31 -0.526236  0.59527  0.161704 -0.004749\n"
     ]
    }
   ],
   "source": [
    "resampled_df = time_series_df.resample('M').mean()\n",
    "print(\"\\nResampled DataFrame (monthly mean):\\n\", resampled_df)"
   ]
  },
  {
   "cell_type": "markdown",
   "id": "6b646884",
   "metadata": {},
   "source": [
    "#### Using rolling window calculations"
   ]
  },
  {
   "cell_type": "code",
   "execution_count": 12,
   "id": "27567dc1",
   "metadata": {},
   "outputs": [
    {
     "name": "stdout",
     "output_type": "stream",
     "text": [
      "\n",
      "Rolling mean (window=3) of time series DataFrame:\n",
      "                    A         B         C         D\n",
      "2021-01-01       NaN       NaN       NaN       NaN\n",
      "2021-01-02       NaN       NaN       NaN       NaN\n",
      "2021-01-03 -0.747591  0.224629  0.285054  0.588436\n",
      "2021-01-04 -0.959503  0.686225  0.159345 -0.558342\n",
      "2021-01-05 -0.661711  0.515037  0.229451 -1.042639\n",
      "2021-01-06 -0.304881  0.965911  0.038354 -0.597933\n"
     ]
    }
   ],
   "source": [
    "rolling_mean = time_series_df.rolling(window=3).mean()\n",
    "print(\"\\nRolling mean (window=3) of time series DataFrame:\\n\", rolling_mean)"
   ]
  },
  {
   "cell_type": "markdown",
   "id": "55348ce5",
   "metadata": {},
   "source": [
    "#### Using expanding window calculations"
   ]
  },
  {
   "cell_type": "code",
   "execution_count": 13,
   "id": "0d37b1b6",
   "metadata": {},
   "outputs": [
    {
     "name": "stdout",
     "output_type": "stream",
     "text": [
      "\n",
      "Expanding sum of time series DataFrame:\n",
      "                    A         B         C         D\n",
      "2021-01-01 -0.250948 -0.255262  0.934942  2.111742\n",
      "2021-01-02 -1.508088  0.771916  1.582076  2.492414\n",
      "2021-01-03 -2.242772  0.673887  0.855163  1.765307\n",
      "2021-01-04 -3.129458  1.803413  1.412976  0.436715\n",
      "2021-01-05 -3.493223  2.317027  2.270430 -0.635502\n",
      "2021-01-06 -3.157414  3.571621  0.970224 -0.028491\n"
     ]
    }
   ],
   "source": [
    "expanding_sum = time_series_df.expanding(min_periods=1).sum()\n",
    "print(\"\\nExpanding sum of time series DataFrame:\\n\", expanding_sum)"
   ]
  },
  {
   "cell_type": "markdown",
   "id": "17918c10",
   "metadata": {},
   "source": [
    "### Using the apply function with complex functions"
   ]
  },
  {
   "cell_type": "code",
   "execution_count": 14,
   "id": "0543d303",
   "metadata": {},
   "outputs": [],
   "source": [
    "def complex_function(x):\n",
    "    return x.max() - x.min()"
   ]
  },
  {
   "cell_type": "code",
   "execution_count": 15,
   "id": "357ad92d",
   "metadata": {},
   "outputs": [
    {
     "name": "stdout",
     "output_type": "stream",
     "text": [
      "\n",
      "Result of applying complex function (max - min) to Age and Salary columns:\n",
      " Age          10\n",
      "Salary    55000\n",
      "dtype: int64\n"
     ]
    }
   ],
   "source": [
    "complex_result = df[['Age', 'Salary']].apply(complex_function, axis=0)\n",
    "print(\"\\nResult of applying complex function (max - min) to Age and Salary columns:\\n\", complex_result)"
   ]
  },
  {
   "cell_type": "markdown",
   "id": "5a6815df",
   "metadata": {},
   "source": [
    "#### Using the transform function for element-wise transformations"
   ]
  },
  {
   "cell_type": "code",
   "execution_count": 16,
   "id": "398ccb8e",
   "metadata": {},
   "outputs": [
    {
     "name": "stdout",
     "output_type": "stream",
     "text": [
      "\n",
      "DataFrame after normalizing Salary within each City group:\n",
      "           City     Name  Age  Salary  Experience  Salary After Tax  \\\n",
      "0     New York    Alice   24   70000           2           49000.0   \n",
      "1  Los Angeles      Bob   27   80000           5           56000.0   \n",
      "2      Chicago  Charlie   22   65000           1           45500.0   \n",
      "3      Houston    David   32  120000          10           84000.0   \n",
      "4      Phoenix      Eve   29   95000           7           66500.0   \n",
      "5     New York    Frank   24   68000           2           47600.0   \n",
      "\n",
      "   Normalized Salary  \n",
      "0           0.707107  \n",
      "1                NaN  \n",
      "2                NaN  \n",
      "3                NaN  \n",
      "4                NaN  \n",
      "5          -0.707107  \n"
     ]
    }
   ],
   "source": [
    "df['Normalized Salary'] = df.groupby('City')['Salary'].transform(lambda x: (x - x.mean()) / x.std())\n",
    "print(\"\\nDataFrame after normalizing Salary within each City group:\\n\", df)"
   ]
  },
  {
   "cell_type": "markdown",
   "id": "263b15d4",
   "metadata": {},
   "source": [
    "#### Using the aggregate function for multiple aggregations"
   ]
  },
  {
   "cell_type": "code",
   "execution_count": 17,
   "id": "3bf09372",
   "metadata": {},
   "outputs": [
    {
     "name": "stdout",
     "output_type": "stream",
     "text": [
      "\n",
      "Aggregate result of Age and Salary by City:\n",
      "               Age          Salary                \n",
      "             mean min max     sum      mean count\n",
      "City                                             \n",
      "Chicago      22.0  22  22   65000   65000.0     1\n",
      "Houston      32.0  32  32  120000  120000.0     1\n",
      "Los Angeles  27.0  27  27   80000   80000.0     1\n",
      "New York     24.0  24  24  138000   69000.0     2\n",
      "Phoenix      29.0  29  29   95000   95000.0     1\n"
     ]
    }
   ],
   "source": [
    "agg_result = df.groupby('City').agg({\n",
    "    'Age': ['mean', 'min', 'max'],\n",
    "    'Salary': ['sum', 'mean', 'count']\n",
    "})\n",
    "print(\"\\nAggregate result of Age and Salary by City:\\n\", agg_result)"
   ]
  },
  {
   "cell_type": "markdown",
   "id": "792e64da",
   "metadata": {},
   "source": [
    "#### Using pivot_table with multiple aggregation functions"
   ]
  },
  {
   "cell_type": "code",
   "execution_count": 18,
   "id": "c5d9c0d4",
   "metadata": {},
   "outputs": [
    {
     "name": "stdout",
     "output_type": "stream",
     "text": [
      "\n",
      "Pivot table with multiple aggregation functions:\n",
      "                 mean                                           sum            \\\n",
      "Experience        1        2        5        7         10       1         2    \n",
      "City                                                                           \n",
      "Chicago      65000.0      NaN      NaN      NaN       NaN  65000.0       NaN   \n",
      "Houston          NaN      NaN      NaN      NaN  120000.0      NaN       NaN   \n",
      "Los Angeles      NaN      NaN  80000.0      NaN       NaN      NaN       NaN   \n",
      "New York         NaN  69000.0      NaN      NaN       NaN      NaN  138000.0   \n",
      "Phoenix          NaN      NaN      NaN  95000.0       NaN      NaN       NaN   \n",
      "\n",
      "                                         \n",
      "Experience        5        7         10  \n",
      "City                                     \n",
      "Chicago          NaN      NaN       NaN  \n",
      "Houston          NaN      NaN  120000.0  \n",
      "Los Angeles  80000.0      NaN       NaN  \n",
      "New York         NaN      NaN       NaN  \n",
      "Phoenix          NaN  95000.0       NaN  \n"
     ]
    }
   ],
   "source": [
    "pivot_table = df.pivot_table(values='Salary', index='City', columns='Experience', aggfunc=[np.mean, np.sum])\n",
    "print(\"\\nPivot table with multiple aggregation functions:\\n\", pivot_table)"
   ]
  },
  {
   "cell_type": "markdown",
   "id": "19490463",
   "metadata": {},
   "source": [
    "### Merging dataframes"
   ]
  },
  {
   "cell_type": "code",
   "execution_count": 26,
   "id": "56d34ab1",
   "metadata": {},
   "outputs": [],
   "source": [
    "df_left = df[['Name', 'Age']]\n",
    "df_right = df[['Name', 'Salary']]"
   ]
  },
  {
   "cell_type": "markdown",
   "id": "dcd92ed6",
   "metadata": {},
   "source": [
    "#### Inner join"
   ]
  },
  {
   "cell_type": "code",
   "execution_count": 27,
   "id": "a43b1af9",
   "metadata": {},
   "outputs": [
    {
     "name": "stdout",
     "output_type": "stream",
     "text": [
      "\n",
      "Inner joined DataFrame:\n",
      "       Name  Age  Salary\n",
      "0    Alice   24   70000\n",
      "1      Bob   27   80000\n",
      "2  Charlie   22   65000\n",
      "3    David   32  120000\n",
      "4      Eve   29   95000\n",
      "5    Frank   24   68000\n"
     ]
    }
   ],
   "source": [
    "inner_merged_df = pd.merge(df_left, df_right, on='Name', how='inner')\n",
    "print(\"\\nInner joined DataFrame:\\n\", inner_merged_df)"
   ]
  },
  {
   "cell_type": "markdown",
   "id": "2ac37312",
   "metadata": {},
   "source": [
    "#### Outer join"
   ]
  },
  {
   "cell_type": "code",
   "execution_count": 28,
   "id": "c03d4baa",
   "metadata": {},
   "outputs": [
    {
     "name": "stdout",
     "output_type": "stream",
     "text": [
      "\n",
      "Outer joined DataFrame:\n",
      "       Name  Age  Salary\n",
      "0    Alice   24   70000\n",
      "1      Bob   27   80000\n",
      "2  Charlie   22   65000\n",
      "3    David   32  120000\n",
      "4      Eve   29   95000\n",
      "5    Frank   24   68000\n"
     ]
    }
   ],
   "source": [
    "outer_merged_df = pd.merge(df_left, df_right, on='Name', how='outer')\n",
    "print(\"\\nOuter joined DataFrame:\\n\", outer_merged_df)"
   ]
  },
  {
   "cell_type": "markdown",
   "id": "3ec2ef56",
   "metadata": {},
   "source": [
    "### Using the merge_asof function for ordered merges"
   ]
  },
  {
   "cell_type": "code",
   "execution_count": 31,
   "id": "4d2ca796",
   "metadata": {},
   "outputs": [],
   "source": [
    "df_stock = pd.DataFrame({\n",
    "    'Date': pd.date_range('20210101', periods=6),\n",
    "    'Stock_Price': [100, 102, 105, 107, 110, 115]\n",
    "})\n",
    "df_event = pd.DataFrame({\n",
    "    'Date': pd.date_range('20210102', periods=3, freq='2D'),\n",
    "    'Event': ['Event1', 'Event2', 'Event3']\n",
    "})"
   ]
  },
  {
   "cell_type": "code",
   "execution_count": 32,
   "id": "d4c66de0",
   "metadata": {},
   "outputs": [
    {
     "name": "stdout",
     "output_type": "stream",
     "text": [
      "\n",
      "As-of merged DataFrame:\n",
      "         Date  Stock_Price   Event\n",
      "0 2021-01-01          100     NaN\n",
      "1 2021-01-02          102  Event1\n",
      "2 2021-01-03          105  Event1\n",
      "3 2021-01-04          107  Event2\n",
      "4 2021-01-05          110  Event2\n",
      "5 2021-01-06          115  Event3\n"
     ]
    }
   ],
   "source": [
    "asof_merged_df = pd.merge_asof(df_stock, df_event, on='Date')\n",
    "print(\"\\nAs-of merged DataFrame:\\n\", asof_merged_df)"
   ]
  },
  {
   "cell_type": "markdown",
   "id": "eea7bd80",
   "metadata": {},
   "source": [
    "### Using the crosstab function for cross-tabulation"
   ]
  },
  {
   "cell_type": "code",
   "execution_count": 29,
   "id": "b648fcef",
   "metadata": {},
   "outputs": [
    {
     "name": "stdout",
     "output_type": "stream",
     "text": [
      "\n",
      "Crosstab result of City and Experience:\n",
      " Experience   1   2   5   7   10\n",
      "City                           \n",
      "Chicago       1   0   0   0   0\n",
      "Houston       0   0   0   0   1\n",
      "Los Angeles   0   0   1   0   0\n",
      "New York      0   2   0   0   0\n",
      "Phoenix       0   0   0   1   0\n"
     ]
    }
   ],
   "source": [
    "crosstab_result = pd.crosstab(df['City'], df['Experience'])\n",
    "print(\"\\nCrosstab result of City and Experience:\\n\", crosstab_result)"
   ]
  },
  {
   "cell_type": "markdown",
   "id": "c4ad3706",
   "metadata": {},
   "source": [
    "### Using the explode function to transform lists into rows"
   ]
  },
  {
   "cell_type": "code",
   "execution_count": 30,
   "id": "f482bd13",
   "metadata": {},
   "outputs": [
    {
     "name": "stdout",
     "output_type": "stream",
     "text": [
      "\n",
      "DataFrame after exploding Skills column:\n",
      "           City     Name  Age  Salary  Experience  Salary After Tax  \\\n",
      "0     New York    Alice   24   70000           2           49000.0   \n",
      "0     New York    Alice   24   70000           2           49000.0   \n",
      "1  Los Angeles      Bob   27   80000           5           56000.0   \n",
      "2      Chicago  Charlie   22   65000           1           45500.0   \n",
      "2      Chicago  Charlie   22   65000           1           45500.0   \n",
      "2      Chicago  Charlie   22   65000           1           45500.0   \n",
      "3      Houston    David   32  120000          10           84000.0   \n",
      "4      Phoenix      Eve   29   95000           7           66500.0   \n",
      "5     New York    Frank   24   68000           2           47600.0   \n",
      "5     New York    Frank   24   68000           2           47600.0   \n",
      "\n",
      "   Normalized Salary  Skills  \n",
      "0           0.707107  Python  \n",
      "0           0.707107       R  \n",
      "1                NaN    Java  \n",
      "2                NaN  Python  \n",
      "2                NaN    Java  \n",
      "2                NaN       R  \n",
      "3                NaN     NaN  \n",
      "4                NaN  Python  \n",
      "5          -0.707107    Java  \n",
      "5          -0.707107     C++  \n"
     ]
    }
   ],
   "source": [
    "df_with_list = df.copy()\n",
    "df_with_list['Skills'] = [['Python', 'R'], ['Java'], ['Python', 'Java', 'R'], [], ['Python'], ['Java', 'C++']]\n",
    "exploded_df = df_with_list.explode('Skills')\n",
    "print(\"\\nDataFrame after exploding Skills column:\\n\", exploded_df)"
   ]
  },
  {
   "cell_type": "markdown",
   "id": "a8e876c0",
   "metadata": {},
   "source": [
    "### Styling DataFrames"
   ]
  },
  {
   "cell_type": "code",
   "execution_count": 33,
   "id": "b18e059d",
   "metadata": {},
   "outputs": [],
   "source": [
    "def highlight_max(s):\n",
    "    is_max = s == s.max()\n",
    "    return ['background-color: yellow' if v else '' for v in is_max]"
   ]
  },
  {
   "cell_type": "code",
   "execution_count": 34,
   "id": "5c251e98",
   "metadata": {},
   "outputs": [
    {
     "name": "stdout",
     "output_type": "stream",
     "text": [
      "\n",
      "Styled DataFrame:\n",
      " <pandas.io.formats.style.Styler object at 0x0000023B37D0ADF0>\n"
     ]
    }
   ],
   "source": [
    "styled_df = df.style.apply(highlight_max, subset=['Age', 'Salary'])\n",
    "print(\"\\nStyled DataFrame:\\n\", styled_df)"
   ]
  },
  {
   "cell_type": "markdown",
   "id": "1b5c18fa",
   "metadata": {},
   "source": [
    "### Using the pipe function to apply multiple functions sequentially"
   ]
  },
  {
   "cell_type": "code",
   "execution_count": 35,
   "id": "f126b990",
   "metadata": {},
   "outputs": [],
   "source": [
    "def add_experience(df):\n",
    "    df['Experience'] = df['Experience'] + 1\n",
    "    return df"
   ]
  },
  {
   "cell_type": "code",
   "execution_count": 36,
   "id": "3f9228e3",
   "metadata": {},
   "outputs": [],
   "source": [
    "def increase_salary(df):\n",
    "    df['Salary'] = df['Salary'] * 1.05\n",
    "    return df"
   ]
  },
  {
   "cell_type": "code",
   "execution_count": 37,
   "id": "1d02994d",
   "metadata": {},
   "outputs": [
    {
     "name": "stdout",
     "output_type": "stream",
     "text": [
      "\n",
      "DataFrame after applying multiple functions sequentially with pipe:\n",
      "           City     Name  Age    Salary  Experience  Salary After Tax  \\\n",
      "0     New York    Alice   24   73500.0           3           49000.0   \n",
      "1  Los Angeles      Bob   27   84000.0           6           56000.0   \n",
      "2      Chicago  Charlie   22   68250.0           2           45500.0   \n",
      "3      Houston    David   32  126000.0          11           84000.0   \n",
      "4      Phoenix      Eve   29   99750.0           8           66500.0   \n",
      "5     New York    Frank   24   71400.0           3           47600.0   \n",
      "\n",
      "   Normalized Salary  \n",
      "0           0.707107  \n",
      "1                NaN  \n",
      "2                NaN  \n",
      "3                NaN  \n",
      "4                NaN  \n",
      "5          -0.707107  \n"
     ]
    }
   ],
   "source": [
    "piped_df = df.pipe(add_experience).pipe(increase_salary)\n",
    "print(\"\\nDataFrame after applying multiple functions sequentially with pipe:\\n\", piped_df)"
   ]
  },
  {
   "cell_type": "code",
   "execution_count": null,
   "id": "272ea575",
   "metadata": {},
   "outputs": [],
   "source": []
  }
 ],
 "metadata": {
  "kernelspec": {
   "display_name": "Python 3 (ipykernel)",
   "language": "python",
   "name": "python3"
  },
  "language_info": {
   "codemirror_mode": {
    "name": "ipython",
    "version": 3
   },
   "file_extension": ".py",
   "mimetype": "text/x-python",
   "name": "python",
   "nbconvert_exporter": "python",
   "pygments_lexer": "ipython3",
   "version": "3.9.7"
  }
 },
 "nbformat": 4,
 "nbformat_minor": 5
}
